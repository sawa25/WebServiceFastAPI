{
  "cells": [
    {
      "cell_type": "code",
      "execution_count": null,
      "metadata": {},
      "outputs": [],
      "source": [
        "# python 3.11.9\n",
        "# установлены библиотеки без указания версий и это работает\n",
        "# %pip install python-dotenv nest_asyncio xmltodict faiss-cpu langchain openai tiktoken langchain-openai\n",
        "# %pip install uvicorn\n",
        "# %pip install fastapi\n"
      ]
    },
    {
      "cell_type": "markdown",
      "metadata": {},
      "source": [
        "## Пример использования простого API"
      ]
    },
    {
      "cell_type": "code",
      "execution_count": 2,
      "metadata": {},
      "outputs": [
        {
          "name": "stdout",
          "output_type": "stream",
          "text": [
            "{\"message\":\"!answer!\"}\n"
          ]
        }
      ],
      "source": [
        "import requests\n",
        "from IPython.display import display, HTML\n",
        "# from IPython.display import display_html, clear_output\n",
        "import json\n",
        "\n",
        "# запросы в fastapi_example\n",
        "response = requests.get(\"http://127.0.0.1:5000/\")\n",
        "print(response.text)"
      ]
    },
    {
      "cell_type": "code",
      "execution_count": 3,
      "metadata": {},
      "outputs": [
        {
          "name": "stdout",
          "output_type": "stream",
          "text": [
            "{\"user_id\":\"85\"}\n"
          ]
        }
      ],
      "source": [
        "response = requests.get(\"http://127.0.0.1:5000/users/85\")\n",
        "print(response.text)\n"
      ]
    },
    {
      "cell_type": "code",
      "execution_count": 4,
      "metadata": {},
      "outputs": [
        {
          "name": "stdout",
          "output_type": "stream",
          "text": [
            "{\"user_name\":\"Ivan\",\"description\":\"good item\",\"price\":42.3}\n"
          ]
        }
      ],
      "source": [
        "# запросы в fastapi_example\n",
        "payload={\"name\":\"Ivan\", \"description\":\"good item\", \"price\":42.3}\n",
        "response = requests.post(\"http://127.0.0.1:5000/users\", json=payload)\n",
        "print(response.text)"
      ]
    },
    {
      "cell_type": "code",
      "execution_count": 5,
      "metadata": {},
      "outputs": [
        {
          "data": {
            "text/html": [
              "<!DOCTYPE html>\n",
              "<html lang=\"en\">\n",
              "<head>\n",
              "    <meta charset=\"UTF-8\">\n",
              "    <meta name=\"viewport\" content=\"width=device-width, initial-scale=1.0\">\n",
              "    <title>Document</title>\n",
              "\n",
              "    <style>\n",
              "        h1{\n",
              "            color: blue;\n",
              "            font-weight: bold;\n",
              "        }\n",
              "    </style>\n",
              "</head>\n",
              "<body>\n",
              "    <h1>Это наше первое веб приложение!</h1>\n",
              "</body>\n",
              "</html>"
            ],
            "text/plain": [
              "<IPython.core.display.HTML object>"
            ]
          },
          "metadata": {},
          "output_type": "display_data"
        }
      ],
      "source": [
        "response = requests.get(\"http://127.0.0.1:5000/html\")\n",
        "display(HTML(response.text))"
      ]
    },
    {
      "cell_type": "code",
      "execution_count": 6,
      "metadata": {},
      "outputs": [
        {
          "data": {
            "text/html": [
              "количество вызовов каждой функции сервиса:</br>read_root=2</br>get_html=3</br>user_id=1</br>post_nameprice=1"
            ],
            "text/plain": [
              "<IPython.core.display.HTML object>"
            ]
          },
          "metadata": {},
          "output_type": "display_data"
        }
      ],
      "source": [
        "response = requests.get(\"http://127.0.0.1:5000/calls\")\n",
        "data = json.loads(response.text)\n",
        "display(HTML(f\"количество вызовов каждой функции сервиса:</br>{data['message']}\"))"
      ]
    },
    {
      "cell_type": "markdown",
      "metadata": {},
      "source": [
        "## Пример использования модуля кастомного chatGPT "
      ]
    },
    {
      "cell_type": "code",
      "execution_count": 8,
      "metadata": {},
      "outputs": [
        {
          "data": {
            "text/html": [
              "Аэропортовая деятельность включает в себя деятельность, осуществляемую юридическими лицами для обеспечения взлета, посадки, руления, стоянки воздушных судов, их технического обслуживания, обеспечения горюче-смазочными материалами и специальными жидкостями, а также коммерческого обслуживания пассажиров, багажа, почты и грузов."
            ],
            "text/plain": [
              "<IPython.core.display.HTML object>"
            ]
          },
          "metadata": {},
          "output_type": "display_data"
        }
      ],
      "source": [
        "# test model class without fastapi\n",
        "from model import LLMModel\n",
        "model = LLMModel(\"\")\n",
        "q1=\"какая деятельность относится к аэропортовой\"\n",
        "display(HTML(model.get_answer(q1)))\n"
      ]
    },
    {
      "cell_type": "markdown",
      "metadata": {},
      "source": [
        "## Пример использования API с кастомным chatGPT "
      ]
    },
    {
      "cell_type": "code",
      "execution_count": 10,
      "metadata": {},
      "outputs": [
        {
          "name": "stdout",
          "output_type": "stream",
          "text": [
            "{\"message\":\"model is not active. start by /api/start\"}\n"
          ]
        }
      ],
      "source": [
        "# проверка логики модели - если не инициализирована, то выдать предупреждение:\n",
        "payload = {\"text\":\"какая деятельность относится к аэропортовой?\"}\n",
        "response = requests.post(\"http://127.0.0.1:5000/api/get_answer\", json=payload)\n",
        "print(response.text)"
      ]
    },
    {
      "cell_type": "code",
      "execution_count": 64,
      "metadata": {},
      "outputs": [
        {
          "name": "stdout",
          "output_type": "stream",
          "text": [
            "{\"message\":\"model started and ready to answer\"}\n"
          ]
        }
      ],
      "source": [
        "# запуск модели\n",
        "response = requests.get(\"http://127.0.0.1:5000/api/start\")\n",
        "print(response.text)"
      ]
    },
    {
      "cell_type": "code",
      "execution_count": 65,
      "metadata": {},
      "outputs": [
        {
          "data": {
            "text/html": [
              "Ответ ассистента:</br>Аэропортовая деятельность включает в себя деятельность, осуществляемую юридическими лицами, по обеспечению взлета, посадки, руления, стоянки воздушных судов, их техническому обслуживанию и обеспечению горюче-смазочными материалами и специальными жидкостями, коммерческому обслуживанию пассажиров, багажа, почты и грузов."
            ],
            "text/plain": [
              "<IPython.core.display.HTML object>"
            ]
          },
          "metadata": {},
          "output_type": "display_data"
        }
      ],
      "source": [
        "# использование кастомного chatgpt через кастомный api\n",
        "payload = {\"text\":\"какая деятельность относится к аэропортовой?\"}\n",
        "response = requests.post(\"http://127.0.0.1:5000/api/get_answer\", json=payload)\n",
        "data = json.loads(response.text)\n",
        "display(HTML(f\"Ответ ассистента:</br>{data['message']}\"))"
      ]
    },
    {
      "cell_type": "code",
      "execution_count": 66,
      "metadata": {},
      "outputs": [
        {
          "data": {
            "text/html": [
              "Ответ ассистента:</br>Страховая премия исчисляется в процентах от общего годового размера страховой премии в зависимости от срока действия договора страхования. Например, если срок действия договора составляет 3 месяца, то страховая премия будет составлять 40% от общего годового размера страховой премии."
            ],
            "text/plain": [
              "<IPython.core.display.HTML object>"
            ]
          },
          "metadata": {},
          "output_type": "display_data"
        }
      ],
      "source": [
        "payload = {\"text\":\"как исчисляется страховая премия?\"}\n",
        "response = requests.post(\"http://127.0.0.1:5000/api/get_answer\", json=payload)\n",
        "data = json.loads(response.text)\n",
        "display(HTML(f\"Ответ ассистента:</br>{data['message']}\"))"
      ]
    },
    {
      "cell_type": "code",
      "execution_count": 67,
      "metadata": {},
      "outputs": [
        {
          "data": {
            "text/html": [
              "количество вызовов каждой функции сервиса:</br>get_html=4</br>read_root=1</br>user_id=1</br>post_nameprice=1</br>post_answer=3</br>start_model=1"
            ],
            "text/plain": [
              "<IPython.core.display.HTML object>"
            ]
          },
          "metadata": {},
          "output_type": "display_data"
        }
      ],
      "source": [
        "response = requests.get(\"http://127.0.0.1:5000/calls\")\n",
        "data = json.loads(response.text)\n",
        "display(HTML(f\"количество вызовов каждой функции сервиса:</br>{data['message']}\"))"
      ]
    },
    {
      "cell_type": "markdown",
      "metadata": {},
      "source": [
        "# ^ задание выполнено"
      ]
    },
    {
      "cell_type": "code",
      "execution_count": null,
      "metadata": {},
      "outputs": [],
      "source": []
    },
    {
      "cell_type": "code",
      "execution_count": null,
      "metadata": {},
      "outputs": [],
      "source": []
    },
    {
      "cell_type": "markdown",
      "metadata": {},
      "source": [
        "#  промежуточные тесты для платформы windows из-за проблем с SSL.\n",
        "# в итоге ничего не получилось. итоговый код выше работает только для ubuntu."
      ]
    },
    {
      "cell_type": "code",
      "execution_count": null,
      "metadata": {},
      "outputs": [],
      "source": [
        "# python 3.11.4\n",
        "# %pip install pygments pexpect\n",
        "# python -m pip install python-certifi-win32\n",
        "# python -m pip install certifi\n",
        "#### %pip install certifi python-dotenv nest_asyncio faiss-cpu==1.7.4 langchain==0.1.7 openai==1.12.0 tiktoken==0.6.0 langchain_community==0.0.20 langchain-openai==0.0.6\n",
        "\n",
        "# %pip install -r requirements.txt\n",
        "# %pip install --upgrade pip\n",
        "# %pip install google-auth google-auth-oauthlib google-auth-httplib2 google-api-python-client\n",
        "# %pip install -U langchain-openai\n",
        "# установка openssl\n",
        "# Set-ExecutionPolicy Bypass -Scope Process -Force; [System.Net.ServicePointManager]::SecurityProtocol = [System.Net.ServicePointManager]::SecurityProtocol -bor 3072; iex ((New-Object System.Net.WebClient).DownloadString('https://chocolatey.org/install.ps1'))\n",
        "# choco install openssl\n",
        "%pip install --upgrade httpx\n"
      ]
    },
    {
      "cell_type": "code",
      "execution_count": null,
      "metadata": {},
      "outputs": [
        {
          "data": {
            "text/plain": [
              "'/home/userdisk/anaconda3/envs/env3119/lib/python3.11/site-packages/certifi/cacert.pem'"
            ]
          },
          "metadata": {},
          "output_type": "display_data"
        }
      ],
      "source": [
        "import certifi\n",
        "certifi.where()"
      ]
    },
    {
      "cell_type": "code",
      "execution_count": null,
      "metadata": {},
      "outputs": [],
      "source": [
        "%pip show langchain-openai\n",
        "%pip show langchain\n",
        "# Deprecated\n",
        "# from langchain.embeddings.openai import OpenAIEmbeddings\n",
        "# print(dir(OpenAIEmbeddings))\n",
        "# print(OpenAIEmbeddings.__doc__)"
      ]
    },
    {
      "cell_type": "code",
      "execution_count": null,
      "metadata": {},
      "outputs": [],
      "source": [
        "import runpy\n",
        "import trace\n",
        "# Создаем объект трассировки\n",
        "tracer = trace.Trace(trace=True)\n",
        "# Запускаем скрипт под трассировкой\n",
        "tracer.run('runpy.run_path(\"model0.py\")')"
      ]
    },
    {
      "cell_type": "code",
      "execution_count": null,
      "metadata": {},
      "outputs": [],
      "source": [
        "# попытка подключить файл с гуглдрайва не из временной папки, а из постоянной\n",
        "# не получилось\n",
        "\n",
        "from google.oauth2 import service_account\n",
        "from googleapiclient.discovery import build\n",
        "from googleapiclient.errors import HttpError\n",
        "from googleapiclient.http import MediaIoBaseDownload\n",
        "import httplib2\n",
        "import google_auth_httplib2\n",
        "import io\n",
        "# from googleapiclient.discovery import build\n",
        "import requests\n",
        "from google.auth.transport.requests import Request\n",
        "from google.auth.transport.requests import AuthorizedSession\n",
        "import logging\n",
        "logging.basicConfig(level=logging.DEBUG)\n",
        "\n",
        "# найти на гуглдрайве файл, имя которого включает в себя uniquesubstringfromfilename и вернуть текст этого файла\n",
        "# для получения сервис файла json надо настроить авторизацию гугл на google cloud\n",
        "def getfilefromgoogledisk(uniquesubstringfromfilename=\"\"):\n",
        "    # Путь к файлу с учетными данными\n",
        "    # \"Копия ПРАВИЛА СТРАХОВАНИЯ ОТВЕТСТВЕННОСТИ АЭРОПОРТОВ И АВИАЦИОННЫХ ТОВАРОПРОИЗВОДИТЕЛЕЙ\"\n",
        "    \n",
        "    SERVICE_ACCOUNT_FILE = 'googledriveutopian-theater-338909-30c6f2cd39b6.json'\n",
        "\n",
        "    # Создание сервисного аккаунта\n",
        "    credentials = service_account.Credentials.from_service_account_file(\n",
        "            SERVICE_ACCOUNT_FILE, scopes=['https://www.googleapis.com/auth/drive'])\n",
        "    h = httplib2.Http(\".cache\", disable_ssl_certificate_validation=True)\n",
        "    authorized_http = google_auth_httplib2.AuthorizedHttp(credentials=credentials,http=h)\n",
        "    \n",
        "    # Создание сервиса Google Drive с использованием настроенного экземпляра AuthorizedHttp\n",
        "    service = build('drive', 'v3', http=authorized_http)\n",
        "    # Пример функции для получения списка файлов\n",
        "    def list_files(keyword):\n",
        "        try:\n",
        "            results = service.files().list(\n",
        "                pageSize=10, fields=\"nextPageToken, files(id, name)\").execute()\n",
        "            items = results.get('files', [])\n",
        "            if not items:\n",
        "                print('No files found.')\n",
        "            else:\n",
        "                print('Files:')\n",
        "                for item in items:\n",
        "                    if keyword in item['name']:\n",
        "                        print(u'{0} ({1})'.format(item['name'], item['id']))\n",
        "                        return item['id']\n",
        "        except HttpError as error:\n",
        "            print(f'An error occurred: {error}')\n",
        "            items = None\n",
        "\n",
        "    file_id=list_files(uniquesubstringfromfilename)\n",
        "\n",
        "    # Получение метаданных файла для определения его типа\n",
        "    file_metadata = service.files().get(fileId=file_id).execute()\n",
        "    file_mime_type = file_metadata.get('mimeType')\n",
        "    mime_type = 'text/plain' # Меняем MIME-тип на 'text/plain' для экспорта текста\n",
        "\n",
        "    # Получение метаданных файла\n",
        "    file_metadata = service.files().get(fileId=file_id).execute()\n",
        "    file_mime_type = file_metadata.get('mimeType')\n",
        "\n",
        "    # Определение, нужно ли использовать метод export\n",
        "    if file_mime_type in ['application/vnd.google-apps.document', 'application/vnd.google-apps.spreadsheet', 'application/vnd.google-apps.presentation']:\n",
        "        # Использование метода export для документов Google Docs, Sheets и Slides\n",
        "        request = service.files().export_media(fileId=file_id, mimeType=mime_type)\n",
        "    else:\n",
        "        # Для других типов файлов используем метод get_media\n",
        "        request = service.files().get_media(fileId=file_id)\n",
        "\n",
        "    # Создание буфера для хранения текста\n",
        "    text_content = io.BytesIO()\n",
        "\n",
        "    # Загрузка текста в буфер\n",
        "    downloader = MediaIoBaseDownload(text_content, request)\n",
        "    done = False\n",
        "    while done is False:\n",
        "        status, done = downloader.next_chunk()\n",
        "        print(\"Загружено {}%.\".format(int(status.progress() * 100)))\n",
        "\n",
        "    # Извлечение текста из буфера\n",
        "    text_content.seek(0) # Перемещение указателя в начало буфера\n",
        "    text = text_content.read().decode('utf-8') # Чтение и декодирование текста\n",
        "\n",
        "    return text\n",
        "print(getfilefromgoogledisk(\"АЭРОПОРТОВ И АВИАЦИОННЫХ ТОВАРОПРОИЗВОДИТЕЛЕЙ\")[:1000]) # Вывод первых 1000 символов текста\n"
      ]
    },
    {
      "cell_type": "code",
      "execution_count": 26,
      "metadata": {},
      "outputs": [
        {
          "name": "stdout",
          "output_type": "stream",
          "text": [
            "<function read_root at 0x7bbfb84ff1a0>\n",
            "<function users at 0x7bbfb84fe660>\n"
          ]
        }
      ],
      "source": [
        "import functools\n",
        "# декоратор для подсчета вызовов каждой функции\n",
        "class CountCalls:\n",
        "    calls = {} # Глобальный словарь для отслеживания количества вызовов\n",
        "    def __init__(self, func):\n",
        "        functools.update_wrapper(self, func)\n",
        "        self.func = func\n",
        "        print(self.func)\n",
        "    def __call__(self, *args, **kwargs):\n",
        "        print(f\"Calling {self.func.__name__}\")\n",
        "        func_name = self.func.__name__\n",
        "        if func_name not in CountCalls.calls:\n",
        "            CountCalls.calls[func_name] = 0\n",
        "        CountCalls.calls[func_name] += 1\n",
        "        return self.func(*args, **kwargs)\n",
        "@CountCalls\n",
        "def read_root():\n",
        "    print(CountCalls.calls)\n",
        "    return {\"message\": f\"{CountCalls.calls}!!answer!\"}\n",
        "def get_calls():\n",
        "    test = '\\n'.join([f\"{func}={cnt}\" for func, cnt in CountCalls.calls.items()])\n",
        "    return {\"message\": test}\n",
        "@CountCalls\n",
        "def users(id):\n",
        "    return {\"user_id\": id}"
      ]
    },
    {
      "cell_type": "code",
      "execution_count": 29,
      "metadata": {},
      "outputs": [
        {
          "name": "stdout",
          "output_type": "stream",
          "text": [
            "Calling users\n",
            "Calling read_root\n",
            "{'users': 2, 'read_root': 2}\n"
          ]
        },
        {
          "data": {
            "text/plain": [
              "{'message': \"{'users': 2, 'read_root': 2}!!answer!\"}"
            ]
          },
          "execution_count": 29,
          "metadata": {},
          "output_type": "execute_result"
        }
      ],
      "source": [
        "users(11)\n",
        "read_root()"
      ]
    },
    {
      "cell_type": "code",
      "execution_count": 30,
      "metadata": {},
      "outputs": [
        {
          "data": {
            "text/plain": [
              "{'message': 'users=2\\nread_root=2'}"
            ]
          },
          "execution_count": 30,
          "metadata": {},
          "output_type": "execute_result"
        }
      ],
      "source": [
        "get_calls()"
      ]
    }
  ],
  "metadata": {
    "kernelspec": {
      "display_name": "base",
      "language": "python",
      "name": "python3"
    },
    "language_info": {
      "codemirror_mode": {
        "name": "ipython",
        "version": 3
      },
      "file_extension": ".py",
      "mimetype": "text/x-python",
      "name": "python",
      "nbconvert_exporter": "python",
      "pygments_lexer": "ipython3",
      "version": "3.11.9"
    }
  },
  "nbformat": 4,
  "nbformat_minor": 2
}
