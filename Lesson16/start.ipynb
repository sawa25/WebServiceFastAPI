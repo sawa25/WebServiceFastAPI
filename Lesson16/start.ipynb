{
 "cells": [
  {
   "cell_type": "code",
   "execution_count": 1,
   "metadata": {},
   "outputs": [
    {
     "name": "stdout",
     "output_type": "stream",
     "text": [
      "Collecting django\n",
      "  Downloading Django-5.0.6-py3-none-any.whl.metadata (4.1 kB)\n",
      "Collecting asgiref<4,>=3.7.0 (from django)\n",
      "  Downloading asgiref-3.8.1-py3-none-any.whl.metadata (9.3 kB)\n",
      "Collecting sqlparse>=0.3.1 (from django)\n",
      "  Downloading sqlparse-0.5.0-py3-none-any.whl.metadata (3.9 kB)\n",
      "Collecting tzdata (from django)\n",
      "  Downloading tzdata-2024.1-py2.py3-none-any.whl.metadata (1.4 kB)\n",
      "Downloading Django-5.0.6-py3-none-any.whl (8.2 MB)\n",
      "   ---------------------------------------- 0.0/8.2 MB ? eta -:--:--\n",
      "   ---------------------------------------- 0.0/8.2 MB 991.0 kB/s eta 0:00:09\n",
      "    --------------------------------------- 0.2/8.2 MB 1.8 MB/s eta 0:00:05\n",
      "   -- ------------------------------------- 0.4/8.2 MB 3.0 MB/s eta 0:00:03\n",
      "   --- ------------------------------------ 0.7/8.2 MB 3.8 MB/s eta 0:00:02\n",
      "   ---- ----------------------------------- 0.9/8.2 MB 4.4 MB/s eta 0:00:02\n",
      "   --------- ------------------------------ 2.0/8.2 MB 7.2 MB/s eta 0:00:01\n",
      "   ---------------- ----------------------- 3.3/8.2 MB 10.7 MB/s eta 0:00:01\n",
      "   ---------------------- ----------------- 4.5/8.2 MB 12.0 MB/s eta 0:00:01\n",
      "   ---------------------------- ----------- 5.9/8.2 MB 14.5 MB/s eta 0:00:01\n",
      "   ------------------------------------- -- 7.6/8.2 MB 16.7 MB/s eta 0:00:01\n",
      "   ---------------------------------------  8.2/8.2 MB 17.5 MB/s eta 0:00:01\n",
      "   ---------------------------------------  8.2/8.2 MB 17.5 MB/s eta 0:00:01\n",
      "   ---------------------------------------  8.2/8.2 MB 17.5 MB/s eta 0:00:01\n",
      "   ---------------------------------------  8.2/8.2 MB 17.5 MB/s eta 0:00:01\n",
      "   ---------------------------------------  8.2/8.2 MB 17.5 MB/s eta 0:00:01\n",
      "   ---------------------------------------  8.2/8.2 MB 17.5 MB/s eta 0:00:01\n",
      "   ---------------------------------------- 8.2/8.2 MB 10.7 MB/s eta 0:00:00\n",
      "Downloading asgiref-3.8.1-py3-none-any.whl (23 kB)\n",
      "Downloading sqlparse-0.5.0-py3-none-any.whl (43 kB)\n",
      "   ---------------------------------------- 0.0/44.0 kB ? eta -:--:--\n",
      "   ------------------------------------- -- 41.0/44.0 kB ? eta -:--:--\n",
      "   ------------------------------------- -- 41.0/44.0 kB ? eta -:--:--\n",
      "   ---------------------------------------- 44.0/44.0 kB 239.2 kB/s eta 0:00:00\n",
      "Downloading tzdata-2024.1-py2.py3-none-any.whl (345 kB)\n",
      "   ---------------------------------------- 0.0/345.4 kB ? eta -:--:--\n",
      "   ---------------------------------------  337.9/345.4 kB ? eta -:--:--\n",
      "   ---------------------------------------  337.9/345.4 kB ? eta -:--:--\n",
      "   ---------------------------------------- 345.4/345.4 kB 2.7 MB/s eta 0:00:00\n",
      "Installing collected packages: tzdata, sqlparse, asgiref, django\n",
      "Successfully installed asgiref-3.8.1 django-5.0.6 sqlparse-0.5.0 tzdata-2024.1\n",
      "Note: you may need to restart the kernel to use updated packages.\n"
     ]
    }
   ],
   "source": [
    "%pip install django"
   ]
  }
 ],
 "metadata": {
  "kernelspec": {
   "display_name": "Python 3",
   "language": "python",
   "name": "python3"
  },
  "language_info": {
   "codemirror_mode": {
    "name": "ipython",
    "version": 3
   },
   "file_extension": ".py",
   "mimetype": "text/x-python",
   "name": "python",
   "nbconvert_exporter": "python",
   "pygments_lexer": "ipython3",
   "version": "3.11.9"
  }
 },
 "nbformat": 4,
 "nbformat_minor": 2
}
